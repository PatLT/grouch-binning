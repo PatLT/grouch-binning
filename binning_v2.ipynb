{
 "cells": [
  {
   "cell_type": "code",
   "execution_count": 14,
   "metadata": {},
   "outputs": [],
   "source": [
    "import numpy as np\n",
    "import pandas as pd\n",
    "import queue\n",
    "import threading\n",
    "from os import listdir\n",
    "import matplotlib.pyplot as plt\n",
    "from matplotlib.colors import SymLogNorm,LogNorm\n",
    "import matplotlib.cm as cm\n",
    "from importlib import reload"
   ]
  },
  {
   "cell_type": "code",
   "execution_count": 20,
   "metadata": {},
   "outputs": [
    {
     "data": {
      "text/plain": [
       "<module 'fast_binning' from '/root/docs/gas_flow_project/fast_binning.py'>"
      ]
     },
     "execution_count": 20,
     "metadata": {},
     "output_type": "execute_result"
    }
   ],
   "source": [
    "import fast_binning\n",
    "reload(fast_binning)"
   ]
  },
  {
   "cell_type": "code",
   "execution_count": 21,
   "metadata": {},
   "outputs": [],
   "source": [
    "dir_ = \"onderive_data_2/12Hz/\""
   ]
  },
  {
   "cell_type": "code",
   "execution_count": 22,
   "metadata": {},
   "outputs": [],
   "source": [
    "test_path = dir_ + \"layer368.csv\"\n",
    "test = pd.read_csv(test_path,header=0,index_col=0)\n",
    "var_labels = test.loc[:,\"Photodiode\":].columns.drop([\"Z\",\"Frame\",\"Layer\"])\n",
    "x_grid,y_grid = fast_binning.optimal_grid([\"X\",\"Y\"],\n",
    "                                          test,\n",
    "                                          [4,4],\n",
    "                                          sub_divisions=6,\n",
    "                                          aux_variable=\"P\",\n",
    "                                          tol=100.0)"
   ]
  },
  {
   "cell_type": "code",
   "execution_count": 23,
   "metadata": {},
   "outputs": [],
   "source": [
    "XY_data = fast_binning.DataBins([\"X\",\"Y\"],[x_grid,y_grid],var_labels)\n",
    "th_data = fast_binning.DataBins([\"Orientation\"],[np.linspace(-np.pi,np.pi,9,endpoint=True)],var_labels)\n",
    "Zl_data = fast_binning.DataBins([\"Layer\"],[np.arange(0,181,3)-0.5],var_labels)"
   ]
  },
  {
   "cell_type": "code",
   "execution_count": 24,
   "metadata": {},
   "outputs": [
    {
     "ename": "KeyboardInterrupt",
     "evalue": "",
     "output_type": "error",
     "traceback": [
      "\u001b[0;31m---------------------------------------------------------------------------\u001b[0m",
      "\u001b[0;31mKeyboardInterrupt\u001b[0m                         Traceback (most recent call last)",
      "\u001b[1;32m/root/docs/gas_flow_project/binning_v2.ipynb Cell 6\u001b[0m line \u001b[0;36m4\n\u001b[1;32m      <a href='vscode-notebook-cell://wsl%2Bubuntu-22.04/root/docs/gas_flow_project/binning_v2.ipynb#W3sdnNjb2RlLXJlbW90ZQ%3D%3D?line=1'>2</a>\u001b[0m df \u001b[39m=\u001b[39m pd\u001b[39m.\u001b[39mread_csv(dir_ \u001b[39m+\u001b[39m file,header\u001b[39m=\u001b[39m\u001b[39m0\u001b[39m,index_col\u001b[39m=\u001b[39m\u001b[39m0\u001b[39m)\n\u001b[1;32m      <a href='vscode-notebook-cell://wsl%2Bubuntu-22.04/root/docs/gas_flow_project/binning_v2.ipynb#W3sdnNjb2RlLXJlbW90ZQ%3D%3D?line=2'>3</a>\u001b[0m df \u001b[39m=\u001b[39m fast_binning\u001b[39m.\u001b[39mexpand_df(df)\n\u001b[0;32m----> <a href='vscode-notebook-cell://wsl%2Bubuntu-22.04/root/docs/gas_flow_project/binning_v2.ipynb#W3sdnNjb2RlLXJlbW90ZQ%3D%3D?line=3'>4</a>\u001b[0m fast_binning\u001b[39m.\u001b[39;49mprocess_dataframe(df,XY_data,th_data,Zl_data)\n",
      "File \u001b[0;32m~/docs/gas_flow_project/fast_binning.py:126\u001b[0m, in \u001b[0;36mprocess_dataframe\u001b[0;34m(dataframe, hatch_only, *data_bins, **kwargs)\u001b[0m\n\u001b[1;32m    124\u001b[0m     \u001b[39m# Assuming the section is valid\u001b[39;00m\n\u001b[1;32m    125\u001b[0m     \u001b[39mfor\u001b[39;00m db \u001b[39min\u001b[39;00m data_bins:\n\u001b[0;32m--> 126\u001b[0m         db\u001b[39m.\u001b[39;49mbin(dataframe\u001b[39m.\u001b[39;49mloc[start:end,:])\n\u001b[1;32m    128\u001b[0m \u001b[39mreturn\u001b[39;00m data_bins\n",
      "File \u001b[0;32m~/docs/gas_flow_project/fast_binning.py:212\u001b[0m, in \u001b[0;36mDataBins.bin\u001b[0;34m(self, dataframe)\u001b[0m\n\u001b[1;32m    209\u001b[0m \u001b[39m#hist = np.bincount(xy,minlength=np.prod(self.nbin))\u001b[39;00m\n\u001b[1;32m    210\u001b[0m \u001b[39m# It's possible that using bincount is faster - need to check. \u001b[39;00m\n\u001b[1;32m    211\u001b[0m np\u001b[39m.\u001b[39madd\u001b[39m.\u001b[39mat(\u001b[39mself\u001b[39m\u001b[39m.\u001b[39msum_bins,xy[\u001b[39mNone\u001b[39;00m,:],dataframe\u001b[39m.\u001b[39mloc[:,\u001b[39mself\u001b[39m\u001b[39m.\u001b[39mvariable_names]\u001b[39m.\u001b[39mvalues)\n\u001b[0;32m--> 212\u001b[0m np\u001b[39m.\u001b[39;49madd\u001b[39m.\u001b[39;49mat(\u001b[39mself\u001b[39;49m\u001b[39m.\u001b[39;49msum2_bins,xy[\u001b[39mNone\u001b[39;49;00m,:],dataframe\u001b[39m.\u001b[39;49mloc[:,\u001b[39mself\u001b[39;49m\u001b[39m.\u001b[39;49mvariable_names]\u001b[39m.\u001b[39;49mvalues\u001b[39m*\u001b[39;49m\u001b[39m*\u001b[39;49m\u001b[39m2\u001b[39;49m)\n\u001b[1;32m    213\u001b[0m np\u001b[39m.\u001b[39madd\u001b[39m.\u001b[39mat(\u001b[39mself\u001b[39m\u001b[39m.\u001b[39mcount_bins,xy[\u001b[39mNone\u001b[39;00m,:],\u001b[39m1\u001b[39m)\n",
      "\u001b[0;31mKeyboardInterrupt\u001b[0m: "
     ]
    }
   ],
   "source": [
    "for file in listdir(dir_):\n",
    "    print(file+\":\")\n",
    "    df = pd.read_csv(dir_ + file,header=0,index_col=0)\n",
    "    print(\"\\tREAD IN\")\n",
    "    df = fast_binning.expand_df(df)\n",
    "    print(\"\\tMODIFIED\")\n",
    "    fast_binning.process_dataframe(df,XY_data,th_data,Zl_data)\n",
    "    print(\"\\tPROCESSED\")"
   ]
  },
  {
   "cell_type": "code",
   "execution_count": null,
   "metadata": {},
   "outputs": [],
   "source": []
  }
 ],
 "metadata": {
  "kernelspec": {
   "display_name": "dev",
   "language": "python",
   "name": "python3"
  },
  "language_info": {
   "codemirror_mode": {
    "name": "ipython",
    "version": 3
   },
   "file_extension": ".py",
   "mimetype": "text/x-python",
   "name": "python",
   "nbconvert_exporter": "python",
   "pygments_lexer": "ipython3",
   "version": "3.11.5"
  }
 },
 "nbformat": 4,
 "nbformat_minor": 2
}
